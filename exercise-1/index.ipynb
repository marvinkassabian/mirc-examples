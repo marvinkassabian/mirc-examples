{
 "cells": [
  {
   "cell_type": "markdown",
   "id": "4f98f86d",
   "metadata": {},
   "source": [
    "## Exercise #1: Data Comparison and Reporting Missing Data"
   ]
  },
  {
   "cell_type": "code",
   "id": "5d7ecae89327df58",
   "metadata": {},
   "source": [
    "import pandas as pd\n",
    "\n",
    "internal_df = pd.read_excel('../data/Exercise #1A.xlsx')\n",
    "acacia_df = pd.read_excel('../data/Exercise #1B.xlsx')"
   ],
   "outputs": [],
   "execution_count": null
  },
  {
   "metadata": {},
   "cell_type": "code",
   "source": [
    "print(\"Internal Data Columns:\", internal_df.columns)\n",
    "print(\"Acacia Data Columns:\", acacia_df.columns)"
   ],
   "id": "9f629496",
   "outputs": [],
   "execution_count": null
  },
  {
   "cell_type": "code",
   "id": "c1b3cfdb",
   "metadata": {},
   "source": [
    "filtered_internal_df = internal_df[\n",
    "    (internal_df['Case Status'] == 'Open') &\n",
    "    (internal_df['Subpractice'].isin(['LTFC', 'URM'])) &\n",
    "    (internal_df['Reported Date'].dt.month == 3) &\n",
    "    (internal_df['Reported Date'].dt.year == 2023)\n",
    "]\n",
    "\n",
    "filtered_acacia_df = acacia_df[\n",
    "    (acacia_df['Case Status'] == 'Open') &\n",
    "    (acacia_df['Subpractice'].isin(['LTFC', 'URM'])) &\n",
    "    (acacia_df['Reported Date'].dt.month == 3) &\n",
    "    (acacia_df['Reported Date'].dt.year == 2023)\n",
    "]"
   ],
   "outputs": [],
   "execution_count": null
  },
  {
   "metadata": {},
   "cell_type": "code",
   "source": [
    "missing_df = pd.merge(filtered_internal_df, filtered_acacia_df, on='Case #', how='outer', indicator=True, suffixes=('_internal', '_acacia'))\n",
    "missing_df = missing_df[missing_df['_merge'] == 'left_only']\n",
    "\n",
    "\n",
    "missing_df = missing_df.drop(columns=['_merge'])\n",
    "missing_df"
   ],
   "id": "bf96610611c373cc",
   "outputs": [],
   "execution_count": null
  },
  {
   "metadata": {},
   "cell_type": "code",
   "source": [
    "comparison_df = pd.merge(filtered_internal_df, filtered_acacia_df, on='Case #', suffixes=('_internal', '_acacia'))\n",
    "comparison_df"
   ],
   "id": "39853af97b342d4f",
   "outputs": [],
   "execution_count": null
  },
  {
   "metadata": {},
   "cell_type": "code",
   "source": [
    "internal_columns = comparison_df.filter(like='_internal').columns\n",
    "acacia_columns = comparison_df.filter(like='_acacia').columns\n",
    "\n",
    "mismatch_df = pd.DataFrame(index=comparison_df.index)\n",
    "mismatch_df['Case #'] = comparison_df['Case #']\n",
    "\n",
    "for internal_col in internal_columns:\n",
    "    acacia_col = internal_col.replace('_internal', '_acacia')\n",
    "    if acacia_col in acacia_columns:\n",
    "        mismatch_col = f'{internal_col.replace(\"_internal\", \"\")}_mismatch'\n",
    "        \n",
    "        internal_values = comparison_df[internal_col]\n",
    "        acacia_values = comparison_df[acacia_col]\n",
    "        \n",
    "        # Check if both values are NaN or if they are different\n",
    "        mismatch_df[mismatch_col] = (internal_values != acacia_values) & (~pd.isna(internal_values) | ~pd.isna(acacia_values))\n",
    "        \n",
    "        # Add columns for both internal and acacia values\n",
    "        mismatch_df[internal_col] = comparison_df[internal_col]\n",
    "        mismatch_df[acacia_col] = comparison_df[acacia_col]\n",
    "\n",
    "# Combine mismatch information with the original DataFrame\n",
    "full_comparison_df = pd.concat([comparison_df[['Case #']], mismatch_df], axis=1)\n",
    "\n",
    "\n",
    "# Extract rows with any mismatches\n",
    "mismatch_rows = full_comparison_df.filter(like='_mismatch').any(axis=1)\n",
    "differences_df = full_comparison_df[mismatch_rows].copy()\n",
    "differences_df"
   ],
   "id": "8bdff36da3b59d53",
   "outputs": [],
   "execution_count": null
  },
  {
   "metadata": {},
   "cell_type": "code",
   "source": [
    "from openpyxl.styles import PatternFill\n",
    "\n",
    "# Create a copy of the DataFrame for Excel output\n",
    "differences_output_df = differences_df.copy()\n",
    "\n",
    "# Remove '_mismatch' columns from the copy\n",
    "columns_to_keep = [col for col in differences_output_df.columns if '_mismatch' not in col]\n",
    "differences_output_df = differences_output_df[columns_to_keep]\n",
    "\n",
    "# Remove duplicate columns\n",
    "differences_output_df = differences_output_df.loc[:, ~differences_output_df.columns.duplicated()]\n",
    "\n",
    "# Filter columns that end with '_internal' and include 'Case #' column\n",
    "internal_columns = [col for col in missing_df.columns if col.endswith('_internal')]\n",
    "internal_columns.append('Case #')  # Ensure 'Case #' is included\n",
    "\n",
    "# Create a new DataFrame with only the relevant columns\n",
    "missing_output_df = missing_df[internal_columns]\n",
    "\n",
    "# Rename columns by removing the '_internal' postfix\n",
    "missing_output_df.columns = [col.replace('_internal', '') if col.endswith('_internal') else col for col in missing_output_df.columns]\n",
    "missing_output_df = missing_output_df[['Case #'] + [col for col in missing_output_df.columns if col != 'Case #']]\n",
    "\n",
    "# Create an Excel writer\n",
    "output_file = '../output/acacia-data-discrepancies.xlsx'\n",
    "with pd.ExcelWriter(output_file, engine='openpyxl') as writer:\n",
    "    \n",
    "    missing_output_df.to_excel(writer, sheet_name='Missing', index=False)\n",
    "    # Convert the filtered DataFrame to an Excel sheet\n",
    "    differences_output_df.to_excel(writer, index=False, sheet_name='Differences')\n",
    "    \n",
    "    # Access the Excel workbook and sheet\n",
    "    workbook = writer.book\n",
    "    sheet = writer.sheets['Differences']\n",
    "    \n",
    "    # Define a fill color for mismatches (e.g., yellow)\n",
    "    highlight_fill = PatternFill(start_color='FFFF00', end_color='FFFF00', fill_type='solid')\n",
    "    \n",
    "    # Apply color coding to mismatched cells based on the original `differences_df`\n",
    "    for row in range(2, len(differences_df) + 2):  # Start from row 2 (row 1 is the header)\n",
    "        for col_idx, column in enumerate(differences_df.columns, 1):\n",
    "            if '_mismatch' in column:\n",
    "                if differences_df.iloc[row - 2][column]:  # Check if there's a mismatch\n",
    "                    # Color the internal cell\n",
    "                    internal_col = f'{column.replace(\"_mismatch\", \"_internal\")}'\n",
    "                    acacia_col = f'{column.replace(\"_mismatch\", \"_acacia\")}'\n",
    "                    internal_col_idx = differences_output_df.columns.get_loc(internal_col) + 1\n",
    "                    acacia_col_idx = differences_output_df.columns.get_loc(acacia_col) + 1\n",
    "                    \n",
    "                    if internal_col in differences_df.columns:\n",
    "                        sheet.cell(row=row, column=internal_col_idx).fill = highlight_fill\n",
    "                    if acacia_col in differences_df.columns:\n",
    "                        sheet.cell(row=row, column=acacia_col_idx).fill = highlight_fill\n",
    "\n",
    "print(f\"Color-coded Excel file has been saved to {output_file}\")"
   ],
   "id": "f1538a61dff87f78",
   "outputs": [],
   "execution_count": null
  },
  {
   "cell_type": "code",
   "id": "a4d4360c",
   "metadata": {},
   "source": [
    "\n",
    "email_template = '''\n",
    "Subject: Discrepancies Identified in Acacia Database\n",
    "\n",
    "Dear Holly,\n",
    "\n",
    "After a thorough review of the data from Acacia’s database, I have identified several discrepancies when compared to our internal dataset. Specifically, there are {missing_count} records that are absent from Acacia’s database, and {mismatch_count} records with data inconsistencies.\n",
    "\n",
    "For your reference, I have attached an Excel file titled \"acacia-data-discrepancies.xlsx.\" This file contains two sheets: \"Missing,\" which details the absent records, and \"Differences,\" which highlights the data inconsistencies.\n",
    "\n",
    "Please let me know if you require any further information or if you would like the data in a different format for ease of use.\n",
    "\n",
    "Best regards,\n",
    "Marvin Kassabian\n",
    "'''\n",
    "\n",
    "# Fill in the missing and mismatching counts\n",
    "email_text = email_template.format(missing_count=missing_df.shape[0], mismatch_count=differences_df.shape[0])\n",
    "print(email_text)\n"
   ],
   "outputs": [],
   "execution_count": null
  }
 ],
 "metadata": {
  "kernelspec": {
   "name": "python3",
   "language": "python",
   "display_name": "Python 3 (ipykernel)"
  }
 },
 "nbformat": 4,
 "nbformat_minor": 5
}
